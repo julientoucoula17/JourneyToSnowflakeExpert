{
 "metadata": {
  "kernelspec": {
   "display_name": "Streamlit Notebook",
   "name": "streamlit"
  },
  "lastEditStatus": {
   "notebookId": "pc2lla7z4l7trldzesml",
   "authorId": "2812521334955",
   "authorName": "JULIENTOUCOULA17",
   "authorEmail": "julien.toucoula@ihu-liryc.fr",
   "sessionId": "146bfe38-c3da-49c5-b478-5e2c900398d1",
   "lastEditTime": 1740329368680
  }
 },
 "nbformat_minor": 5,
 "nbformat": 4,
 "cells": [
  {
   "cell_type": "markdown",
   "id": "44b583e8-16af-472a-9226-11225eb6661a",
   "metadata": {
    "name": "Title_Cell",
    "collapsed": false
   },
   "source": "# Add Rows to Flower Detail Table\nEdit the \"set\" cells to update the variables, then click \"Run All\"\nin the top left-corner."
  },
  {
   "cell_type": "code",
   "id": "c801b4bd-a670-41ea-bb03-dacabc4dcbbe",
   "metadata": {
    "language": "sql",
    "name": "set_root_depth_code",
    "collapsed": false
   },
   "outputs": [],
   "source": "set rdc = 'S';",
   "execution_count": null
  },
  {
   "cell_type": "code",
   "id": "5eec3186-e48f-40fd-a401-e80ca451b53f",
   "metadata": {
    "language": "sql",
    "name": "set_flower_name",
    "collapsed": false
   },
   "outputs": [],
   "source": "set fn = 'Lilac';",
   "execution_count": null
  },
  {
   "cell_type": "code",
   "id": "7c70265e-72f1-4528-a81b-0e976a00ffce",
   "metadata": {
    "language": "sql",
    "name": "check_my_variables",
    "collapsed": false
   },
   "outputs": [],
   "source": "select $fn, $rdc;",
   "execution_count": null
  },
  {
   "cell_type": "code",
   "id": "3f7372f1-3fc2-4125-8aab-3b7a7578c1f4",
   "metadata": {
    "language": "sql",
    "name": "insert_row",
    "collapsed": false
   },
   "outputs": [],
   "source": "insert into garden_plants.flowers.flower_details\nselect 'Petunia','M';\n\ninsert into garden_plants.flowers.flower_details\nselect $fn, $rdc;\n\n",
   "execution_count": null
  },
  {
   "cell_type": "code",
   "id": "345b9cca-4262-4762-9fea-44791f111a6d",
   "metadata": {
    "language": "sql",
    "name": "check_the_table",
    "collapsed": false
   },
   "outputs": [],
   "source": "select * from garden_plants.flowers.flower_details;",
   "execution_count": null
  },
  {
   "cell_type": "code",
   "id": "4a0a11d5-b97f-430b-ad0f-3828162fed2a",
   "metadata": {
    "language": "sql",
    "name": "cell1",
    "collapsed": false
   },
   "outputs": [],
   "source": "INSERT INTO garden_plants.flowers.flower_details (PLANT_NAME, ROOT_DEPTH_CODE) \nVALUES ('Sunflower', 'D'),\n('Lavender', 'S'),\n('Tulip', 'M');",
   "execution_count": null
  },
  {
   "cell_type": "code",
   "id": "06b01439-1606-4d44-8d9e-96939fbd234c",
   "metadata": {
    "language": "sql",
    "name": "cell2",
    "collapsed": false
   },
   "outputs": [],
   "source": "create or replace TABLE GARDEN_PLANTS.FRUITS.FRUIT_DETAILS (\n\tPLANT_NAME VARCHAR(25),\n\tROOT_DEPTH_CODE VARCHAR(1)\n);",
   "execution_count": null
  },
  {
   "cell_type": "code",
   "id": "caa89265-cdca-4440-8b89-93e0776ff3d3",
   "metadata": {
    "language": "sql",
    "name": "cell3",
    "collapsed": false
   },
   "outputs": [],
   "source": "--Set your worksheet drop list role to ACCOUNTADMIN\n--Set your worksheet drop list database and schema to the location of your GRADER function\nuse database UTIL_DB;\nuse schema PUBLIC;\nuse role ACCOUNTADMIN;\n-- DO NOT EDIT ANYTHING BELOW THIS LINE. THE CODE MUST BE RUN EXACTLY AS IT IS WRITTEN\nselect GRADER(step, (actual = expected), actual, expected, description) as graded_results from ( \n   SELECT 'DWW08' as step \n   ,( select iff(count(*)=0, 0, count(*)/count(*))\n      from table(information_schema.query_history())\n      where query_text like 'execute notebook%Uncle Yer%') as actual \n   , 1 as expected \n   , 'Notebook success!' as description \n); ",
   "execution_count": null
  },
  {
   "cell_type": "code",
   "id": "8ef1ad2e-abfc-4dae-9b60-7da79642f0d8",
   "metadata": {
    "language": "sql",
    "name": "cell4",
    "collapsed": false
   },
   "outputs": [],
   "source": "use database UTIL_DB;\nuse schema PUBLIC;\nuse role ACCOUNTADMIN;\nselect GRADER(step, (actual = expected), actual, expected, description) as graded_results from ( SELECT 'DWW08' as step ,( select iff(count(*)=0, 0, count(*)/count(*)) from table(information_schema.query_history()) where query_text like 'execute notebook%Uncle Yer%') as actual , 1 as expected , 'Notebook success!' as description );",
   "execution_count": null
  }
 ]
}